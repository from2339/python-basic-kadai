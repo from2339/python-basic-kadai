{
  "nbformat": 4,
  "nbformat_minor": 0,
  "metadata": {
    "colab": {
      "provenance": []
    },
    "kernelspec": {
      "name": "python3",
      "display_name": "Python 3"
    },
    "language_info": {
      "name": "python"
    }
  },
  "cells": [
    {
      "cell_type": "code",
      "execution_count": 1,
      "metadata": {
        "colab": {
          "base_uri": "https://localhost:8080/"
        },
        "id": "5_-UHJOujEny",
        "outputId": "23d8d83c-ddbe-4061-e4cb-4a45f24e3a6e"
      },
      "outputs": [
        {
          "output_type": "stream",
          "name": "stdout",
          "text": [
            "75.0cm²\n"
          ]
        }
      ],
      "source": [
        "# 変数を定義する\n",
        "top_side = 10  # cm\n",
        "bottom_side = 20  # cm\n",
        "height = 5  # cm\n",
        "\n",
        "# 台形の面積を計算（公式: (上辺 + 下辺) × 高さ ÷ 2）\n",
        "area = (top_side + bottom_side) * height / 2\n",
        "\n",
        "# 計算結果を出力（数値と文字列を結合して出力）\n",
        "print(str(area) + \"cm²\")"
      ]
    }
  ]
}