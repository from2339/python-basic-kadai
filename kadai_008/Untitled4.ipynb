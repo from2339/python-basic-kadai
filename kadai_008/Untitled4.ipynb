{
  "nbformat": 4,
  "nbformat_minor": 0,
  "metadata": {
    "colab": {
      "provenance": []
    },
    "kernelspec": {
      "name": "python3",
      "display_name": "Python 3"
    },
    "language_info": {
      "name": "python"
    }
  },
  "cells": [
    {
      "cell_type": "code",
      "execution_count": 37,
      "metadata": {
        "colab": {
          "base_uri": "https://localhost:8080/"
        },
        "id": "zKkemXic-_T-",
        "outputId": "9b919ced-0bd9-45ac-ee6b-11d8f82d3366"
      },
      "outputs": [
        {
          "output_type": "stream",
          "name": "stdout",
          "text": [
            "Buzz\n",
            "95\n"
          ]
        }
      ],
      "source": [
        "import random\n",
        "num = random.randint(1,100)\n",
        "var = num\n",
        "\n",
        "if var % 3 == 0:\n",
        "  print(\"Fizz\")\n",
        "elif var % 5 == 0:\n",
        "  print(\"Buzz\")\n",
        "\n",
        "if var % 3 == 0 and var % 5 == 0:\n",
        "  print(\"FizzBuzz\")\n",
        "\n",
        "else:\n",
        "  print(var)\n"
      ]
    }
  ]
}